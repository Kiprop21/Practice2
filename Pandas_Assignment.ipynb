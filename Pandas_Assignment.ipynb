{
 "cells": [
  {
   "cell_type": "markdown",
   "metadata": {
    "id": "m0tgCkvzPLEa"
   },
   "source": [
    "# Data Investigation with Pandas Assignment"
   ]
  },
  {
   "cell_type": "markdown",
   "metadata": {
    "id": "VSnOCZ5-IPCi"
   },
   "source": [
    "## 1.0 Importing our Libraries"
   ]
  },
  {
   "cell_type": "code",
   "execution_count": 1,
   "metadata": {
    "id": "3r-KDLvrO44a"
   },
   "outputs": [],
   "source": [
    "# Importing the libraries we will need\n",
    "\n",
    "# Importing the pandas library\n",
    "import pandas as pd\n",
    "\n",
    "# Importing the numpy library\n",
    "import numpy as np\n"
   ]
  },
  {
   "cell_type": "markdown",
   "metadata": {
    "id": "HToJZ2gBPawZ"
   },
   "source": [
    "## 1.1 Reading the Dataset from our CSV file\n",
    "\n"
   ]
  },
  {
   "cell_type": "markdown",
   "metadata": {
    "id": "LBUr8VUXQX-K"
   },
   "source": [
    "\n",
    "\n",
    "The dataset we will use contains information about the 2009 Census - The Rural Urban Population by Age, Sex and District.\n",
    "\n",
    "\n",
    "\n",
    "\n"
   ]
  },
  {
   "cell_type": "code",
   "execution_count": 3,
   "metadata": {
    "id": "1acwmZanRNHs"
   },
   "outputs": [
    {
     "data": {
      "text/html": [
       "<div>\n",
       "<style scoped>\n",
       "    .dataframe tbody tr th:only-of-type {\n",
       "        vertical-align: middle;\n",
       "    }\n",
       "\n",
       "    .dataframe tbody tr th {\n",
       "        vertical-align: top;\n",
       "    }\n",
       "\n",
       "    .dataframe thead th {\n",
       "        text-align: right;\n",
       "    }\n",
       "</style>\n",
       "<table border=\"1\" class=\"dataframe\">\n",
       "  <thead>\n",
       "    <tr style=\"text-align: right;\">\n",
       "      <th></th>\n",
       "      <th>District</th>\n",
       "      <th>Urban/Rural</th>\n",
       "      <th>Age_years</th>\n",
       "      <th>Male</th>\n",
       "      <th>Female</th>\n",
       "      <th>Total</th>\n",
       "      <th>County</th>\n",
       "      <th>Province</th>\n",
       "      <th>OBJECTID</th>\n",
       "    </tr>\n",
       "  </thead>\n",
       "  <tbody>\n",
       "    <tr>\n",
       "      <th>0</th>\n",
       "      <td>NAIROBI WEST</td>\n",
       "      <td>Urban</td>\n",
       "      <td>0</td>\n",
       "      <td>10126</td>\n",
       "      <td>10116</td>\n",
       "      <td>20242</td>\n",
       "      <td>Nairobi</td>\n",
       "      <td>NAIROBI</td>\n",
       "      <td>0</td>\n",
       "    </tr>\n",
       "    <tr>\n",
       "      <th>1</th>\n",
       "      <td>NAIROBI WEST</td>\n",
       "      <td>Urban</td>\n",
       "      <td>1</td>\n",
       "      <td>8124</td>\n",
       "      <td>7989</td>\n",
       "      <td>16113</td>\n",
       "      <td>Nairobi</td>\n",
       "      <td>NAIROBI</td>\n",
       "      <td>1</td>\n",
       "    </tr>\n",
       "    <tr>\n",
       "      <th>2</th>\n",
       "      <td>NAIROBI WEST</td>\n",
       "      <td>Urban</td>\n",
       "      <td>2</td>\n",
       "      <td>8462</td>\n",
       "      <td>8627</td>\n",
       "      <td>17089</td>\n",
       "      <td>Nairobi</td>\n",
       "      <td>NAIROBI</td>\n",
       "      <td>2</td>\n",
       "    </tr>\n",
       "    <tr>\n",
       "      <th>3</th>\n",
       "      <td>NAIROBI WEST</td>\n",
       "      <td>Urban</td>\n",
       "      <td>3</td>\n",
       "      <td>8334</td>\n",
       "      <td>8420</td>\n",
       "      <td>16754</td>\n",
       "      <td>Nairobi</td>\n",
       "      <td>NAIROBI</td>\n",
       "      <td>3</td>\n",
       "    </tr>\n",
       "    <tr>\n",
       "      <th>4</th>\n",
       "      <td>NAIROBI WEST</td>\n",
       "      <td>Urban</td>\n",
       "      <td>4</td>\n",
       "      <td>7948</td>\n",
       "      <td>7820</td>\n",
       "      <td>15768</td>\n",
       "      <td>Nairobi</td>\n",
       "      <td>NAIROBI</td>\n",
       "      <td>4</td>\n",
       "    </tr>\n",
       "  </tbody>\n",
       "</table>\n",
       "</div>"
      ],
      "text/plain": [
       "       District Urban/Rural Age_years   Male  Female  Total   County Province  \\\n",
       "0  NAIROBI WEST       Urban         0  10126   10116  20242  Nairobi  NAIROBI   \n",
       "1  NAIROBI WEST       Urban         1   8124    7989  16113  Nairobi  NAIROBI   \n",
       "2  NAIROBI WEST       Urban         2   8462    8627  17089  Nairobi  NAIROBI   \n",
       "3  NAIROBI WEST       Urban         3   8334    8420  16754  Nairobi  NAIROBI   \n",
       "4  NAIROBI WEST       Urban         4   7948    7820  15768  Nairobi  NAIROBI   \n",
       "\n",
       "   OBJECTID  \n",
       "0         0  \n",
       "1         1  \n",
       "2         2  \n",
       "3         3  \n",
       "4         4  "
      ]
     },
     "execution_count": 3,
     "metadata": {},
     "output_type": "execute_result"
    }
   ],
   "source": [
    "# Let's read the data from the CSV file and create the dataframe to be used\n",
    "data=pd.read_csv(\"C:/Users/win/Documents/Python Scripts/Assignment/Rural_Urban_Population_By_Age_Sex_and_by_District__2009.csv\")\n",
    "data.head()"
   ]
  },
  {
   "cell_type": "markdown",
   "metadata": {
    "id": "IICLGbvBRYHq"
   },
   "source": [
    "## 1.2 Previewing our Dataset\n"
   ]
  },
  {
   "cell_type": "code",
   "execution_count": 4,
   "metadata": {
    "id": "WrwHg-hzR5BY"
   },
   "outputs": [
    {
     "data": {
      "text/html": [
       "<div>\n",
       "<style scoped>\n",
       "    .dataframe tbody tr th:only-of-type {\n",
       "        vertical-align: middle;\n",
       "    }\n",
       "\n",
       "    .dataframe tbody tr th {\n",
       "        vertical-align: top;\n",
       "    }\n",
       "\n",
       "    .dataframe thead th {\n",
       "        text-align: right;\n",
       "    }\n",
       "</style>\n",
       "<table border=\"1\" class=\"dataframe\">\n",
       "  <thead>\n",
       "    <tr style=\"text-align: right;\">\n",
       "      <th></th>\n",
       "      <th>District</th>\n",
       "      <th>Urban/Rural</th>\n",
       "      <th>Age_years</th>\n",
       "      <th>Male</th>\n",
       "      <th>Female</th>\n",
       "      <th>Total</th>\n",
       "      <th>County</th>\n",
       "      <th>Province</th>\n",
       "      <th>OBJECTID</th>\n",
       "    </tr>\n",
       "  </thead>\n",
       "  <tbody>\n",
       "    <tr>\n",
       "      <th>0</th>\n",
       "      <td>NAIROBI WEST</td>\n",
       "      <td>Urban</td>\n",
       "      <td>0</td>\n",
       "      <td>10126</td>\n",
       "      <td>10116</td>\n",
       "      <td>20242</td>\n",
       "      <td>Nairobi</td>\n",
       "      <td>NAIROBI</td>\n",
       "      <td>0</td>\n",
       "    </tr>\n",
       "    <tr>\n",
       "      <th>1</th>\n",
       "      <td>NAIROBI WEST</td>\n",
       "      <td>Urban</td>\n",
       "      <td>1</td>\n",
       "      <td>8124</td>\n",
       "      <td>7989</td>\n",
       "      <td>16113</td>\n",
       "      <td>Nairobi</td>\n",
       "      <td>NAIROBI</td>\n",
       "      <td>1</td>\n",
       "    </tr>\n",
       "    <tr>\n",
       "      <th>2</th>\n",
       "      <td>NAIROBI WEST</td>\n",
       "      <td>Urban</td>\n",
       "      <td>2</td>\n",
       "      <td>8462</td>\n",
       "      <td>8627</td>\n",
       "      <td>17089</td>\n",
       "      <td>Nairobi</td>\n",
       "      <td>NAIROBI</td>\n",
       "      <td>2</td>\n",
       "    </tr>\n",
       "    <tr>\n",
       "      <th>3</th>\n",
       "      <td>NAIROBI WEST</td>\n",
       "      <td>Urban</td>\n",
       "      <td>3</td>\n",
       "      <td>8334</td>\n",
       "      <td>8420</td>\n",
       "      <td>16754</td>\n",
       "      <td>Nairobi</td>\n",
       "      <td>NAIROBI</td>\n",
       "      <td>3</td>\n",
       "    </tr>\n",
       "    <tr>\n",
       "      <th>4</th>\n",
       "      <td>NAIROBI WEST</td>\n",
       "      <td>Urban</td>\n",
       "      <td>4</td>\n",
       "      <td>7948</td>\n",
       "      <td>7820</td>\n",
       "      <td>15768</td>\n",
       "      <td>Nairobi</td>\n",
       "      <td>NAIROBI</td>\n",
       "      <td>4</td>\n",
       "    </tr>\n",
       "    <tr>\n",
       "      <th>5</th>\n",
       "      <td>NAIROBI WEST</td>\n",
       "      <td>Urban</td>\n",
       "      <td>5</td>\n",
       "      <td>7547</td>\n",
       "      <td>7660</td>\n",
       "      <td>15207</td>\n",
       "      <td>Nairobi</td>\n",
       "      <td>NAIROBI</td>\n",
       "      <td>5</td>\n",
       "    </tr>\n",
       "    <tr>\n",
       "      <th>6</th>\n",
       "      <td>NAIROBI WEST</td>\n",
       "      <td>Urban</td>\n",
       "      <td>6</td>\n",
       "      <td>6966</td>\n",
       "      <td>7082</td>\n",
       "      <td>14048</td>\n",
       "      <td>Nairobi</td>\n",
       "      <td>NAIROBI</td>\n",
       "      <td>6</td>\n",
       "    </tr>\n",
       "    <tr>\n",
       "      <th>7</th>\n",
       "      <td>NAIROBI WEST</td>\n",
       "      <td>Urban</td>\n",
       "      <td>7</td>\n",
       "      <td>6511</td>\n",
       "      <td>6674</td>\n",
       "      <td>13185</td>\n",
       "      <td>Nairobi</td>\n",
       "      <td>NAIROBI</td>\n",
       "      <td>7</td>\n",
       "    </tr>\n",
       "    <tr>\n",
       "      <th>8</th>\n",
       "      <td>NAIROBI WEST</td>\n",
       "      <td>Urban</td>\n",
       "      <td>8</td>\n",
       "      <td>6171</td>\n",
       "      <td>6489</td>\n",
       "      <td>12660</td>\n",
       "      <td>Nairobi</td>\n",
       "      <td>NAIROBI</td>\n",
       "      <td>8</td>\n",
       "    </tr>\n",
       "    <tr>\n",
       "      <th>9</th>\n",
       "      <td>NAIROBI WEST</td>\n",
       "      <td>Urban</td>\n",
       "      <td>9</td>\n",
       "      <td>6361</td>\n",
       "      <td>6662</td>\n",
       "      <td>13023</td>\n",
       "      <td>Nairobi</td>\n",
       "      <td>NAIROBI</td>\n",
       "      <td>9</td>\n",
       "    </tr>\n",
       "  </tbody>\n",
       "</table>\n",
       "</div>"
      ],
      "text/plain": [
       "       District Urban/Rural Age_years   Male  Female  Total   County Province  \\\n",
       "0  NAIROBI WEST       Urban         0  10126   10116  20242  Nairobi  NAIROBI   \n",
       "1  NAIROBI WEST       Urban         1   8124    7989  16113  Nairobi  NAIROBI   \n",
       "2  NAIROBI WEST       Urban         2   8462    8627  17089  Nairobi  NAIROBI   \n",
       "3  NAIROBI WEST       Urban         3   8334    8420  16754  Nairobi  NAIROBI   \n",
       "4  NAIROBI WEST       Urban         4   7948    7820  15768  Nairobi  NAIROBI   \n",
       "5  NAIROBI WEST       Urban         5   7547    7660  15207  Nairobi  NAIROBI   \n",
       "6  NAIROBI WEST       Urban         6   6966    7082  14048  Nairobi  NAIROBI   \n",
       "7  NAIROBI WEST       Urban         7   6511    6674  13185  Nairobi  NAIROBI   \n",
       "8  NAIROBI WEST       Urban         8   6171    6489  12660  Nairobi  NAIROBI   \n",
       "9  NAIROBI WEST       Urban         9   6361    6662  13023  Nairobi  NAIROBI   \n",
       "\n",
       "   OBJECTID  \n",
       "0         0  \n",
       "1         1  \n",
       "2         2  \n",
       "3         3  \n",
       "4         4  \n",
       "5         5  \n",
       "6         6  \n",
       "7         7  \n",
       "8         8  \n",
       "9         9  "
      ]
     },
     "execution_count": 4,
     "metadata": {},
     "output_type": "execute_result"
    }
   ],
   "source": [
    "# Let's preview the first 10 rows of our data\n",
    "data.head(10)\n"
   ]
  },
  {
   "cell_type": "markdown",
   "metadata": {
    "id": "RAVzK5O6IR8v"
   },
   "source": [
    "## 1.3 Accessing Information about our Dataset"
   ]
  },
  {
   "cell_type": "code",
   "execution_count": 5,
   "metadata": {
    "id": "0d2kfemDIYWI"
   },
   "outputs": [
    {
     "name": "stdout",
     "output_type": "stream",
     "text": [
      "<class 'pandas.core.frame.DataFrame'>\n",
      "RangeIndex: 25420 entries, 0 to 25419\n",
      "Data columns (total 9 columns):\n",
      " #   Column       Non-Null Count  Dtype \n",
      "---  ------       --------------  ----- \n",
      " 0   District     25420 non-null  object\n",
      " 1   Urban/Rural  25420 non-null  object\n",
      " 2   Age_years    25420 non-null  object\n",
      " 3   Male         25420 non-null  int64 \n",
      " 4   Female       25420 non-null  int64 \n",
      " 5   Total        25420 non-null  int64 \n",
      " 6   County       25420 non-null  object\n",
      " 7   Province     25420 non-null  object\n",
      " 8   OBJECTID     25420 non-null  int64 \n",
      "dtypes: int64(4), object(5)\n",
      "memory usage: 1.7+ MB\n"
     ]
    }
   ],
   "source": [
    "# We can getting to know more about the dataset by accessing its information\n",
    "data.info()"
   ]
  },
  {
   "cell_type": "markdown",
   "metadata": {
    "id": "NicC8P9LMjvO"
   },
   "source": [
    "## 1.4 Answering Questions"
   ]
  },
  {
   "cell_type": "markdown",
   "metadata": {
    "id": "8izhaW7UNYGJ"
   },
   "source": [
    "Let's answer the following questions with our dataset"
   ]
  },
  {
   "cell_type": "code",
   "execution_count": 15,
   "metadata": {
    "id": "tTOgnXvuMxcn"
   },
   "outputs": [
    {
     "name": "stdout",
     "output_type": "stream",
     "text": [
      "<class 'pandas.core.series.Series'>\n",
      "RangeIndex: 25420 entries, 0 to 25419\n",
      "Series name: Age_years\n",
      "Non-Null Count  Dtype  \n",
      "--------------  -----  \n",
      "24800 non-null  float64\n",
      "dtypes: float64(1)\n",
      "memory usage: 198.7 KB\n"
     ]
    },
    {
     "data": {
      "text/plain": [
       "79.0"
      ]
     },
     "execution_count": 15,
     "metadata": {},
     "output_type": "execute_result"
    }
   ],
   "source": [
    "# Challenge 1\n",
    "# What was the average age of a person of Kenya?\n",
    "age=pd.to_numeric(data[\"Age_years\"],errors='coerce')\n",
    "age.info()\n",
    "age.mean()"
   ]
  },
  {
   "cell_type": "code",
   "execution_count": 16,
   "metadata": {
    "id": "BNegesaWNvQs"
   },
   "outputs": [
    {
     "data": {
      "text/plain": [
       "763.8725019669552"
      ]
     },
     "execution_count": 16,
     "metadata": {},
     "output_type": "execute_result"
    }
   ],
   "source": [
    "# Challenge 2\n",
    "# What was the average female population in Kenya?\n",
    "data[\"Female\"].mean()\n"
   ]
  },
  {
   "cell_type": "code",
   "execution_count": 17,
   "metadata": {
    "id": "7tilTerhNyiP"
   },
   "outputs": [
    {
     "data": {
      "text/plain": [
       "755.0140833988985"
      ]
     },
     "execution_count": 17,
     "metadata": {},
     "output_type": "execute_result"
    }
   ],
   "source": [
    "# Challenge 3\n",
    "# What was the average male population in Kenya?\n",
    "data[\"Male\"].mean()\n"
   ]
  },
  {
   "cell_type": "code",
   "execution_count": 18,
   "metadata": {
    "id": "OemJ0HDYOHCq"
   },
   "outputs": [
    {
     "data": {
      "text/html": [
       "<div>\n",
       "<style scoped>\n",
       "    .dataframe tbody tr th:only-of-type {\n",
       "        vertical-align: middle;\n",
       "    }\n",
       "\n",
       "    .dataframe tbody tr th {\n",
       "        vertical-align: top;\n",
       "    }\n",
       "\n",
       "    .dataframe thead th {\n",
       "        text-align: right;\n",
       "    }\n",
       "</style>\n",
       "<table border=\"1\" class=\"dataframe\">\n",
       "  <thead>\n",
       "    <tr style=\"text-align: right;\">\n",
       "      <th></th>\n",
       "      <th>District</th>\n",
       "      <th>Urban/Rural</th>\n",
       "      <th>Age_years</th>\n",
       "      <th>Male</th>\n",
       "      <th>Female</th>\n",
       "      <th>Total</th>\n",
       "      <th>County</th>\n",
       "      <th>Province</th>\n",
       "      <th>OBJECTID</th>\n",
       "    </tr>\n",
       "  </thead>\n",
       "  <tbody>\n",
       "    <tr>\n",
       "      <th>108</th>\n",
       "      <td>NAIROBI EAST</td>\n",
       "      <td>Urban</td>\n",
       "      <td>25</td>\n",
       "      <td>21383</td>\n",
       "      <td>23090</td>\n",
       "      <td>44473</td>\n",
       "      <td>Nairobi</td>\n",
       "      <td>NAIROBI</td>\n",
       "      <td>108</td>\n",
       "    </tr>\n",
       "    <tr>\n",
       "      <th>113</th>\n",
       "      <td>NAIROBI EAST</td>\n",
       "      <td>Urban</td>\n",
       "      <td>30</td>\n",
       "      <td>23060</td>\n",
       "      <td>18937</td>\n",
       "      <td>41997</td>\n",
       "      <td>Nairobi</td>\n",
       "      <td>NAIROBI</td>\n",
       "      <td>113</td>\n",
       "    </tr>\n",
       "    <tr>\n",
       "      <th>189</th>\n",
       "      <td>NAIROBI NORTH</td>\n",
       "      <td>Urban</td>\n",
       "      <td>25</td>\n",
       "      <td>20175</td>\n",
       "      <td>20637</td>\n",
       "      <td>40812</td>\n",
       "      <td>Nairobi</td>\n",
       "      <td>NAIROBI</td>\n",
       "      <td>189</td>\n",
       "    </tr>\n",
       "    <tr>\n",
       "      <th>107</th>\n",
       "      <td>NAIROBI EAST</td>\n",
       "      <td>Urban</td>\n",
       "      <td>24</td>\n",
       "      <td>18028</td>\n",
       "      <td>20785</td>\n",
       "      <td>38813</td>\n",
       "      <td>Nairobi</td>\n",
       "      <td>NAIROBI</td>\n",
       "      <td>107</td>\n",
       "    </tr>\n",
       "    <tr>\n",
       "      <th>106</th>\n",
       "      <td>NAIROBI EAST</td>\n",
       "      <td>Urban</td>\n",
       "      <td>23</td>\n",
       "      <td>16882</td>\n",
       "      <td>21301</td>\n",
       "      <td>38183</td>\n",
       "      <td>Nairobi</td>\n",
       "      <td>NAIROBI</td>\n",
       "      <td>106</td>\n",
       "    </tr>\n",
       "  </tbody>\n",
       "</table>\n",
       "</div>"
      ],
      "text/plain": [
       "          District Urban/Rural Age_years   Male  Female  Total   County  \\\n",
       "108   NAIROBI EAST       Urban        25  21383   23090  44473  Nairobi   \n",
       "113   NAIROBI EAST       Urban        30  23060   18937  41997  Nairobi   \n",
       "189  NAIROBI NORTH       Urban        25  20175   20637  40812  Nairobi   \n",
       "107   NAIROBI EAST       Urban        24  18028   20785  38813  Nairobi   \n",
       "106   NAIROBI EAST       Urban        23  16882   21301  38183  Nairobi   \n",
       "\n",
       "    Province  OBJECTID  \n",
       "108  NAIROBI       108  \n",
       "113  NAIROBI       113  \n",
       "189  NAIROBI       189  \n",
       "107  NAIROBI       107  \n",
       "106  NAIROBI       106  "
      ]
     },
     "execution_count": 18,
     "metadata": {},
     "output_type": "execute_result"
    }
   ],
   "source": [
    "# Challenge 4\n",
    "# Which 5 districts were the most densely populated Kenya in descending order?\n",
    "sorted_data=data.sort_values(by=\"Total\", ascending=False)\n",
    "sorted_data.head()"
   ]
  },
  {
   "cell_type": "code",
   "execution_count": 27,
   "metadata": {
    "id": "CIxC5arSOLak"
   },
   "outputs": [
    {
     "data": {
      "text/plain": [
       "County\n",
       "Nairobi     3138369\n",
       "Kiambu      1673785\n",
       "Kakamega    1660651\n",
       "Nakuru      1603325\n",
       "Meru        1591533\n",
       "Name: Total, dtype: int64"
      ]
     },
     "execution_count": 27,
     "metadata": {},
     "output_type": "execute_result"
    }
   ],
   "source": [
    "# Challenge 5\n",
    "# Which 5 counties were the most densely populated Counties in descending order?\n",
    "data.County.nunique()\n",
    "county_data=data.groupby(\"County\")[\"Total\"].sum()\n",
    "dense_county=county_data.sort_values(ascending=False)\n",
    "dense_county.head()"
   ]
  },
  {
   "cell_type": "code",
   "execution_count": 30,
   "metadata": {
    "id": "gSjjnw56OP8O"
   },
   "outputs": [
    {
     "data": {
      "text/plain": [
       "District\n",
       "LAIKIPIA NORTH    32762\n",
       "GARBATULLA        43118\n",
       "MARSABIT          46502\n",
       "SAMBURU EAST      59094\n",
       "SAMBURU NORTH     59801\n",
       "Name: Total, dtype: int64"
      ]
     },
     "execution_count": 30,
     "metadata": {},
     "output_type": "execute_result"
    }
   ],
   "source": [
    "# Challenge 6\n",
    "# Which 5 districts were the most sparsely populated in descending order?\n",
    "data.District.nunique()\n",
    "district_data=data.groupby(\"District\")[\"Total\"].sum()\n",
    "dense_district=district_data.sort_values(ascending=True)\n",
    "dense_district.head()"
   ]
  },
  {
   "cell_type": "code",
   "execution_count": 33,
   "metadata": {
    "id": "UZLYqF7UOTtu"
   },
   "outputs": [
    {
     "data": {
      "text/plain": [
       "9568.198170731708"
      ]
     },
     "execution_count": 33,
     "metadata": {},
     "output_type": "execute_result"
    }
   ],
   "source": [
    "# Challenge 7\n",
    "# What was the average population of the the most densely populated county in Kenya?\n",
    "nairobi_data=data[data[\"County\"]==\"Nairobi\"]\n",
    "nairobi_data[\"Total\"].mean()"
   ]
  },
  {
   "cell_type": "code",
   "execution_count": 35,
   "metadata": {
    "id": "1qk8wF3MOXDu"
   },
   "outputs": [
    {
     "data": {
      "text/plain": [
       "619.140243902439"
      ]
     },
     "execution_count": 35,
     "metadata": {},
     "output_type": "execute_result"
    }
   ],
   "source": [
    "# Challenge 8\n",
    "# What was the average population of the the most sparsely populated county in Kenya?\n",
    "lamu_data=data[data[\"County\"]==\"Lamu\"]\n",
    "lamu_data[\"Total\"].mean()"
   ]
  },
  {
   "cell_type": "code",
   "execution_count": 43,
   "metadata": {
    "id": "1V21Beok3Rdc"
   },
   "outputs": [
    {
     "data": {
      "text/plain": [
       "743946"
      ]
     },
     "execution_count": 43,
     "metadata": {},
     "output_type": "execute_result"
    }
   ],
   "source": [
    "# Challenge 9\n",
    "# What was the total population of Busia County?\n",
    "busia_data=data[data[\"County\"]==\"Busia\"]\n",
    "busia_data[\"Total\"].sum()\n"
   ]
  },
  {
   "cell_type": "code",
   "execution_count": 62,
   "metadata": {
    "id": "Vtq7pAI73RTZ"
   },
   "outputs": [
    {
     "data": {
      "text/plain": [
       "4914"
      ]
     },
     "execution_count": 62,
     "metadata": {},
     "output_type": "execute_result"
    }
   ],
   "source": [
    "# Challenge 10\n",
    "# What was the average age of person in Busia County? \n",
    "data[\"Age\"]=pd.to_numeric(data[\"Age_years\"],errors='coerce')\n",
    "avg_busia=busia_data[\"Age\"].mean()\n",
    "age_39=busia_data[busia_data[\"Age\"]==39]\n",
    "age_39[\"Total\"].sum()\n"
   ]
  },
  {
   "cell_type": "code",
   "execution_count": 57,
   "metadata": {},
   "outputs": [
    {
     "name": "stderr",
     "output_type": "stream",
     "text": [
      "C:\\Users\\win\\AppData\\Local\\Temp\\ipykernel_752\\2223063623.py:1: SettingWithCopyWarning: \n",
      "A value is trying to be set on a copy of a slice from a DataFrame.\n",
      "Try using .loc[row_indexer,col_indexer] = value instead\n",
      "\n",
      "See the caveats in the documentation: https://pandas.pydata.org/pandas-docs/stable/user_guide/indexing.html#returning-a-view-versus-a-copy\n",
      "  busia_data[\"Total_Age\"]=busia_data[\"Total\"]*busia_data[\"Age\"]\n"
     ]
    },
    {
     "data": {
      "text/html": [
       "<div>\n",
       "<style scoped>\n",
       "    .dataframe tbody tr th:only-of-type {\n",
       "        vertical-align: middle;\n",
       "    }\n",
       "\n",
       "    .dataframe tbody tr th {\n",
       "        vertical-align: top;\n",
       "    }\n",
       "\n",
       "    .dataframe thead th {\n",
       "        text-align: right;\n",
       "    }\n",
       "</style>\n",
       "<table border=\"1\" class=\"dataframe\">\n",
       "  <thead>\n",
       "    <tr style=\"text-align: right;\">\n",
       "      <th></th>\n",
       "      <th>District</th>\n",
       "      <th>Urban/Rural</th>\n",
       "      <th>Age_years</th>\n",
       "      <th>Male</th>\n",
       "      <th>Female</th>\n",
       "      <th>Total</th>\n",
       "      <th>County</th>\n",
       "      <th>Province</th>\n",
       "      <th>OBJECTID</th>\n",
       "      <th>Age</th>\n",
       "      <th>Total_Age</th>\n",
       "    </tr>\n",
       "  </thead>\n",
       "  <tbody>\n",
       "    <tr>\n",
       "      <th>12546</th>\n",
       "      <td>BUSIA</td>\n",
       "      <td>Urban</td>\n",
       "      <td>0</td>\n",
       "      <td>790</td>\n",
       "      <td>843</td>\n",
       "      <td>1633</td>\n",
       "      <td>Busia</td>\n",
       "      <td>WESTERN</td>\n",
       "      <td>12546</td>\n",
       "      <td>0.0</td>\n",
       "      <td>0.0</td>\n",
       "    </tr>\n",
       "    <tr>\n",
       "      <th>12547</th>\n",
       "      <td>BUSIA</td>\n",
       "      <td>Urban</td>\n",
       "      <td>1</td>\n",
       "      <td>679</td>\n",
       "      <td>649</td>\n",
       "      <td>1328</td>\n",
       "      <td>Busia</td>\n",
       "      <td>WESTERN</td>\n",
       "      <td>12547</td>\n",
       "      <td>1.0</td>\n",
       "      <td>1328.0</td>\n",
       "    </tr>\n",
       "    <tr>\n",
       "      <th>12548</th>\n",
       "      <td>BUSIA</td>\n",
       "      <td>Urban</td>\n",
       "      <td>2</td>\n",
       "      <td>715</td>\n",
       "      <td>725</td>\n",
       "      <td>1440</td>\n",
       "      <td>Busia</td>\n",
       "      <td>WESTERN</td>\n",
       "      <td>12548</td>\n",
       "      <td>2.0</td>\n",
       "      <td>2880.0</td>\n",
       "    </tr>\n",
       "    <tr>\n",
       "      <th>12549</th>\n",
       "      <td>BUSIA</td>\n",
       "      <td>Urban</td>\n",
       "      <td>3</td>\n",
       "      <td>709</td>\n",
       "      <td>699</td>\n",
       "      <td>1408</td>\n",
       "      <td>Busia</td>\n",
       "      <td>WESTERN</td>\n",
       "      <td>12549</td>\n",
       "      <td>3.0</td>\n",
       "      <td>4224.0</td>\n",
       "    </tr>\n",
       "    <tr>\n",
       "      <th>12550</th>\n",
       "      <td>BUSIA</td>\n",
       "      <td>Urban</td>\n",
       "      <td>4</td>\n",
       "      <td>675</td>\n",
       "      <td>655</td>\n",
       "      <td>1330</td>\n",
       "      <td>Busia</td>\n",
       "      <td>WESTERN</td>\n",
       "      <td>12550</td>\n",
       "      <td>4.0</td>\n",
       "      <td>5320.0</td>\n",
       "    </tr>\n",
       "  </tbody>\n",
       "</table>\n",
       "</div>"
      ],
      "text/plain": [
       "      District Urban/Rural Age_years  Male  Female  Total County Province  \\\n",
       "12546    BUSIA       Urban         0   790     843   1633  Busia  WESTERN   \n",
       "12547    BUSIA       Urban         1   679     649   1328  Busia  WESTERN   \n",
       "12548    BUSIA       Urban         2   715     725   1440  Busia  WESTERN   \n",
       "12549    BUSIA       Urban         3   709     699   1408  Busia  WESTERN   \n",
       "12550    BUSIA       Urban         4   675     655   1330  Busia  WESTERN   \n",
       "\n",
       "       OBJECTID  Age  Total_Age  \n",
       "12546     12546  0.0        0.0  \n",
       "12547     12547  1.0     1328.0  \n",
       "12548     12548  2.0     2880.0  \n",
       "12549     12549  3.0     4224.0  \n",
       "12550     12550  4.0     5320.0  "
      ]
     },
     "execution_count": 57,
     "metadata": {},
     "output_type": "execute_result"
    }
   ],
   "source": [
    "busia_data[\"Total_Age\"]=busia_data[\"Total\"]*busia_data[\"Age\"]\n",
    "#pd.DataFrame(busia_data[\"Total_Age\"]=busia_data[\"Total\"]*busia_data[\"Age\"])\n",
    "busia_data.head"
   ]
  },
  {
   "cell_type": "code",
   "execution_count": 58,
   "metadata": {},
   "outputs": [
    {
     "data": {
      "text/plain": [
       "19.968622722616963"
      ]
     },
     "execution_count": 58,
     "metadata": {},
     "output_type": "execute_result"
    }
   ],
   "source": [
    "age_sum=busia_data[\"Total_Age\"].sum()\n",
    "total_sum=busia_data[\"Total\"].sum()\n",
    "avg_age=age_sum/total_sum\n",
    "avg_age"
   ]
  },
  {
   "cell_type": "code",
   "execution_count": 66,
   "metadata": {},
   "outputs": [
    {
     "data": {
      "text/html": [
       "<div>\n",
       "<style scoped>\n",
       "    .dataframe tbody tr th:only-of-type {\n",
       "        vertical-align: middle;\n",
       "    }\n",
       "\n",
       "    .dataframe tbody tr th {\n",
       "        vertical-align: top;\n",
       "    }\n",
       "\n",
       "    .dataframe thead th {\n",
       "        text-align: right;\n",
       "    }\n",
       "</style>\n",
       "<table border=\"1\" class=\"dataframe\">\n",
       "  <thead>\n",
       "    <tr style=\"text-align: right;\">\n",
       "      <th></th>\n",
       "      <th>District</th>\n",
       "      <th>Urban/Rural</th>\n",
       "      <th>Age_years</th>\n",
       "      <th>Male</th>\n",
       "      <th>Female</th>\n",
       "      <th>Total</th>\n",
       "      <th>County</th>\n",
       "      <th>Province</th>\n",
       "      <th>OBJECTID</th>\n",
       "      <th>Age</th>\n",
       "      <th>Total_Age</th>\n",
       "    </tr>\n",
       "  </thead>\n",
       "  <tbody>\n",
       "    <tr>\n",
       "      <th>12546</th>\n",
       "      <td>BUSIA</td>\n",
       "      <td>Urban</td>\n",
       "      <td>0</td>\n",
       "      <td>790</td>\n",
       "      <td>843</td>\n",
       "      <td>1633</td>\n",
       "      <td>Busia</td>\n",
       "      <td>WESTERN</td>\n",
       "      <td>12546</td>\n",
       "      <td>0.0</td>\n",
       "      <td>0.0</td>\n",
       "    </tr>\n",
       "    <tr>\n",
       "      <th>12547</th>\n",
       "      <td>BUSIA</td>\n",
       "      <td>Urban</td>\n",
       "      <td>1</td>\n",
       "      <td>679</td>\n",
       "      <td>649</td>\n",
       "      <td>1328</td>\n",
       "      <td>Busia</td>\n",
       "      <td>WESTERN</td>\n",
       "      <td>12547</td>\n",
       "      <td>1.0</td>\n",
       "      <td>1328.0</td>\n",
       "    </tr>\n",
       "    <tr>\n",
       "      <th>12548</th>\n",
       "      <td>BUSIA</td>\n",
       "      <td>Urban</td>\n",
       "      <td>2</td>\n",
       "      <td>715</td>\n",
       "      <td>725</td>\n",
       "      <td>1440</td>\n",
       "      <td>Busia</td>\n",
       "      <td>WESTERN</td>\n",
       "      <td>12548</td>\n",
       "      <td>2.0</td>\n",
       "      <td>2880.0</td>\n",
       "    </tr>\n",
       "    <tr>\n",
       "      <th>12549</th>\n",
       "      <td>BUSIA</td>\n",
       "      <td>Urban</td>\n",
       "      <td>3</td>\n",
       "      <td>709</td>\n",
       "      <td>699</td>\n",
       "      <td>1408</td>\n",
       "      <td>Busia</td>\n",
       "      <td>WESTERN</td>\n",
       "      <td>12549</td>\n",
       "      <td>3.0</td>\n",
       "      <td>4224.0</td>\n",
       "    </tr>\n",
       "    <tr>\n",
       "      <th>12550</th>\n",
       "      <td>BUSIA</td>\n",
       "      <td>Urban</td>\n",
       "      <td>4</td>\n",
       "      <td>675</td>\n",
       "      <td>655</td>\n",
       "      <td>1330</td>\n",
       "      <td>Busia</td>\n",
       "      <td>WESTERN</td>\n",
       "      <td>12550</td>\n",
       "      <td>4.0</td>\n",
       "      <td>5320.0</td>\n",
       "    </tr>\n",
       "  </tbody>\n",
       "</table>\n",
       "</div>"
      ],
      "text/plain": [
       "      District Urban/Rural Age_years  Male  Female  Total County Province  \\\n",
       "12546    BUSIA       Urban         0   790     843   1633  Busia  WESTERN   \n",
       "12547    BUSIA       Urban         1   679     649   1328  Busia  WESTERN   \n",
       "12548    BUSIA       Urban         2   715     725   1440  Busia  WESTERN   \n",
       "12549    BUSIA       Urban         3   709     699   1408  Busia  WESTERN   \n",
       "12550    BUSIA       Urban         4   675     655   1330  Busia  WESTERN   \n",
       "\n",
       "       OBJECTID  Age  Total_Age  \n",
       "12546     12546  0.0        0.0  \n",
       "12547     12547  1.0     1328.0  \n",
       "12548     12548  2.0     2880.0  \n",
       "12549     12549  3.0     4224.0  \n",
       "12550     12550  4.0     5320.0  "
      ]
     },
     "execution_count": 66,
     "metadata": {},
     "output_type": "execute_result"
    }
   ],
   "source": [
    "busia_data.head()"
   ]
  },
  {
   "cell_type": "code",
   "execution_count": 65,
   "metadata": {},
   "outputs": [
    {
     "data": {
      "text/html": [
       "<div>\n",
       "<style scoped>\n",
       "    .dataframe tbody tr th:only-of-type {\n",
       "        vertical-align: middle;\n",
       "    }\n",
       "\n",
       "    .dataframe tbody tr th {\n",
       "        vertical-align: top;\n",
       "    }\n",
       "\n",
       "    .dataframe thead th {\n",
       "        text-align: right;\n",
       "    }\n",
       "</style>\n",
       "<table border=\"1\" class=\"dataframe\">\n",
       "  <thead>\n",
       "    <tr style=\"text-align: right;\">\n",
       "      <th></th>\n",
       "      <th>Male</th>\n",
       "      <th>Female</th>\n",
       "      <th>Total</th>\n",
       "      <th>OBJECTID</th>\n",
       "      <th>Age</th>\n",
       "      <th>Total_Age</th>\n",
       "    </tr>\n",
       "  </thead>\n",
       "  <tbody>\n",
       "    <tr>\n",
       "      <th>count</th>\n",
       "      <td>820.000000</td>\n",
       "      <td>820.000000</td>\n",
       "      <td>820.000000</td>\n",
       "      <td>820.000000</td>\n",
       "      <td>800.000000</td>\n",
       "      <td>800.000000</td>\n",
       "    </tr>\n",
       "    <tr>\n",
       "      <th>mean</th>\n",
       "      <td>434.295122</td>\n",
       "      <td>472.956098</td>\n",
       "      <td>907.251220</td>\n",
       "      <td>18982.500000</td>\n",
       "      <td>39.500000</td>\n",
       "      <td>18569.471250</td>\n",
       "    </tr>\n",
       "    <tr>\n",
       "      <th>std</th>\n",
       "      <td>763.216469</td>\n",
       "      <td>781.958618</td>\n",
       "      <td>1542.300484</td>\n",
       "      <td>6236.927961</td>\n",
       "      <td>23.106653</td>\n",
       "      <td>22345.746912</td>\n",
       "    </tr>\n",
       "    <tr>\n",
       "      <th>min</th>\n",
       "      <td>0.000000</td>\n",
       "      <td>0.000000</td>\n",
       "      <td>0.000000</td>\n",
       "      <td>12546.000000</td>\n",
       "      <td>0.000000</td>\n",
       "      <td>0.000000</td>\n",
       "    </tr>\n",
       "    <tr>\n",
       "      <th>25%</th>\n",
       "      <td>41.750000</td>\n",
       "      <td>46.750000</td>\n",
       "      <td>91.500000</td>\n",
       "      <td>12750.750000</td>\n",
       "      <td>19.750000</td>\n",
       "      <td>3021.000000</td>\n",
       "    </tr>\n",
       "    <tr>\n",
       "      <th>50%</th>\n",
       "      <td>170.000000</td>\n",
       "      <td>197.000000</td>\n",
       "      <td>370.500000</td>\n",
       "      <td>18982.500000</td>\n",
       "      <td>39.500000</td>\n",
       "      <td>12888.000000</td>\n",
       "    </tr>\n",
       "    <tr>\n",
       "      <th>75%</th>\n",
       "      <td>483.000000</td>\n",
       "      <td>574.250000</td>\n",
       "      <td>1073.750000</td>\n",
       "      <td>25214.250000</td>\n",
       "      <td>59.250000</td>\n",
       "      <td>23824.500000</td>\n",
       "    </tr>\n",
       "    <tr>\n",
       "      <th>max</th>\n",
       "      <td>5355.000000</td>\n",
       "      <td>5319.000000</td>\n",
       "      <td>10642.000000</td>\n",
       "      <td>25419.000000</td>\n",
       "      <td>79.000000</td>\n",
       "      <td>126400.000000</td>\n",
       "    </tr>\n",
       "  </tbody>\n",
       "</table>\n",
       "</div>"
      ],
      "text/plain": [
       "              Male       Female         Total      OBJECTID         Age  \\\n",
       "count   820.000000   820.000000    820.000000    820.000000  800.000000   \n",
       "mean    434.295122   472.956098    907.251220  18982.500000   39.500000   \n",
       "std     763.216469   781.958618   1542.300484   6236.927961   23.106653   \n",
       "min       0.000000     0.000000      0.000000  12546.000000    0.000000   \n",
       "25%      41.750000    46.750000     91.500000  12750.750000   19.750000   \n",
       "50%     170.000000   197.000000    370.500000  18982.500000   39.500000   \n",
       "75%     483.000000   574.250000   1073.750000  25214.250000   59.250000   \n",
       "max    5355.000000  5319.000000  10642.000000  25419.000000   79.000000   \n",
       "\n",
       "           Total_Age  \n",
       "count     800.000000  \n",
       "mean    18569.471250  \n",
       "std     22345.746912  \n",
       "min         0.000000  \n",
       "25%      3021.000000  \n",
       "50%     12888.000000  \n",
       "75%     23824.500000  \n",
       "max    126400.000000  "
      ]
     },
     "execution_count": 65,
     "metadata": {},
     "output_type": "execute_result"
    }
   ],
   "source": [
    "# Challenge 10\n",
    "# What was the average age of person in Busia County? \n",
    "busia_data.head()\n",
    "busia_data.describe()"
   ]
  },
  {
   "cell_type": "code",
   "execution_count": 63,
   "metadata": {},
   "outputs": [
    {
     "data": {
      "text/plain": [
       "4914"
      ]
     },
     "execution_count": 63,
     "metadata": {},
     "output_type": "execute_result"
    }
   ],
   "source": [
    "# Challenge 10\n",
    "#How many people of this age were in Busia County?\n",
    "data[\"Age\"]=pd.to_numeric(data[\"Age_years\"],errors='coerce')\n",
    "avg_busia=busia_data[\"Age\"].mean()\n",
    "age_39=busia_data[busia_data[\"Age\"]==39]\n",
    "age_39[\"Total\"].sum()"
   ]
  },
  {
   "cell_type": "code",
   "execution_count": 70,
   "metadata": {
    "id": "8xkStdjdXS3w"
   },
   "outputs": [
    {
     "data": {
      "text/plain": [
       "137924"
      ]
     },
     "execution_count": 70,
     "metadata": {},
     "output_type": "execute_result"
    }
   ],
   "source": [
    "# Challenge 11\n",
    "# What was the Total population of Teso South District?\n",
    "teso=data[data[\"District\"]==\"TESO SOUTH\"]\n",
    "teso_data=data[data[\"District\"]==\"TESO SOUTH\"][\"Total\"].sum()\n",
    "teso_data"
   ]
  },
  {
   "cell_type": "code",
   "execution_count": null,
   "metadata": {
    "id": "rgVsXH_5XVCh"
   },
   "outputs": [],
   "source": [
    "# Challenge 12\n",
    "# What was the urban population of Teso South District?\n",
    "\n"
   ]
  },
  {
   "cell_type": "code",
   "execution_count": null,
   "metadata": {
    "id": "XvvFWhuDXXeP"
   },
   "outputs": [],
   "source": [
    "# Challenge 13\n",
    "# What was the rural population of Teso South District?\n",
    "#\n"
   ]
  },
  {
   "cell_type": "code",
   "execution_count": null,
   "metadata": {
    "id": "q1iq02FuXc2R"
   },
   "outputs": [],
   "source": [
    "# Challenge 14\n",
    "# What was the population of people aged 60 and above in Kenya?\n",
    "#\n"
   ]
  },
  {
   "cell_type": "code",
   "execution_count": null,
   "metadata": {
    "id": "drAWpxBZXhcF"
   },
   "outputs": [],
   "source": [
    "# Challenge 15\n",
    "# What was the urban population in Kenya?\n",
    "#\n"
   ]
  }
 ],
 "metadata": {
  "colab": {
   "collapsed_sections": [
    "VSnOCZ5-IPCi",
    "HToJZ2gBPawZ",
    "IICLGbvBRYHq",
    "RAVzK5O6IR8v",
    "NicC8P9LMjvO"
   ],
   "provenance": []
  },
  "kernelspec": {
   "display_name": "Python 3 (ipykernel)",
   "language": "python",
   "name": "python3"
  },
  "language_info": {
   "codemirror_mode": {
    "name": "ipython",
    "version": 3
   },
   "file_extension": ".py",
   "mimetype": "text/x-python",
   "name": "python",
   "nbconvert_exporter": "python",
   "pygments_lexer": "ipython3",
   "version": "3.11.5"
  }
 },
 "nbformat": 4,
 "nbformat_minor": 1
}
